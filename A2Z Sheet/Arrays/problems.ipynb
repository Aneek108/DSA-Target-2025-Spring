{
 "cells": [
  {
   "cell_type": "markdown",
   "metadata": {},
   "source": [
    "Remove duplicates from Sorted array\n",
    "Left Rotate an array by one place\n",
    "Left rotate an array by D places\n",
    "Move Zeros to end\n",
    "Find the Union\n",
    "Find missing number in an array\n",
    "Maximum Consecutive Ones\n",
    "Find the number that appears once, and other numbers twice\n",
    "Longest subarray with sum K (Positives + Negatives)"
   ]
  },
  {
   "cell_type": "markdown",
   "metadata": {},
   "source": [
    "Longest subarray with given sum K(positives)"
   ]
  },
  {
   "cell_type": "code",
   "execution_count": null,
   "metadata": {},
   "outputs": [],
   "source": [
    "8   U"
   ]
  }
 ],
 "metadata": {
  "language_info": {
   "name": "python"
  }
 },
 "nbformat": 4,
 "nbformat_minor": 2
}
